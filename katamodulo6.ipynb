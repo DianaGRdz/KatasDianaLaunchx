{
 "cells": [
  {
   "cell_type": "code",
   "execution_count": null,
   "metadata": {},
   "outputs": [
    {
     "name": "stdout",
     "output_type": "stream",
     "text": [
      "Cantidad de planetas 8\n",
      "Pluto Es el ultimo planeta\n"
     ]
    }
   ],
   "source": [
    "#Ejercicio 1\n",
    "# Creamos la lista planets y la mostramos\n",
    "# Agregamos a plutón y mostramos el último elemento\n",
    "planetas=['Mercury', 'Venus', 'Earth', 'Mars', 'Jupiter', 'Saturn', 'Uranus', 'Neptune']\n",
    "print ('Cantidad de planetas', len (planetas))\n",
    "planetas.append('Pluto')\n",
    "print (planetas [-1], 'Es el ultimo planeta')\n",
    "\n"
   ]
  },
  {
   "cell_type": "code",
   "execution_count": 17,
   "metadata": {},
   "outputs": [
    {
     "name": "stdout",
     "output_type": "stream",
     "text": [
      "planetas mas cercanos al sol  3 ['Mercury', 'Venus', 'Earth']\n",
      "planetas mas lejanos al sol  3 ['Jupiter', 'Saturn', 'Neptune']\n"
     ]
    }
   ],
   "source": [
    "#Ejercicio 2\n",
    "# Lista de planetas\n",
    "planetas = ['Mercury', 'Venus', 'Earth', 'Mars', 'Jupiter', 'Saturn', 'Neptune']\n",
    "\n",
    "# Solicitamos el nombre de un planeta *Pista:  \n",
    "# Muestra los planetas más cercanos al sol\n",
    "# Muestra los planetas más lejanos al sol\n",
    "planeta=input('Ingrese el nombre del planeta iniciando con mayuscual')\n",
    "planeta_index= planetas.index(planeta)\n",
    "print ('planetas mas cercanos al sol ', + planeta_index, planetas[0:planeta_index])\n",
    "print ('planetas mas lejanos al sol ', + planeta_index, planetas[planeta_index + 1:])\n"
   ]
  }
 ],
 "metadata": {
  "interpreter": {
   "hash": "8e80d2d68616db500495fa63305e4522368717129d2b03ba28547940a56e2ea5"
  },
  "kernelspec": {
   "display_name": "Python 3.10.2 ('env': venv)",
   "language": "python",
   "name": "python3"
  },
  "language_info": {
   "codemirror_mode": {
    "name": "ipython",
    "version": 3
   },
   "file_extension": ".py",
   "mimetype": "text/x-python",
   "name": "python",
   "nbconvert_exporter": "python",
   "pygments_lexer": "ipython3",
   "version": "3.10.2"
  },
  "orig_nbformat": 4
 },
 "nbformat": 4,
 "nbformat_minor": 2
}
