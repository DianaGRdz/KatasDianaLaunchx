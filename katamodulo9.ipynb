{
 "cells": [
  {
   "cell_type": "code",
   "execution_count": 1,
   "metadata": {},
   "outputs": [
    {
     "name": "stdout",
     "output_type": "stream",
     "text": [
      "Reporte completo:\n",
      "    Combustible total: 65.0%\n",
      "    Primer tanque: 90%\n",
      "    Segundo tanque:60%\n",
      "    Tercer tanque: 45%\n",
      "    \n"
     ]
    }
   ],
   "source": [
    "#Ejercicio 1\n",
    "\n",
    "# Función para leer 3 tanques de combustible y muestre el promedio\n",
    "\n",
    "# Defino mi función\n",
    "def reporte(tanque1, tanque2,  tanque3):\n",
    "  # obtenemos el proemdio\n",
    "    combustible_total = (tanque1 + tanque2 + tanque3)/3\n",
    "    return f\"\"\"Reporte completo:\n",
    "    Combustible total: {combustible_total}%\n",
    "    Primer tanque: {tanque1}%\n",
    "    Segundo tanque:{tanque2}%\n",
    "    Tercer tanque: {tanque3}%\n",
    "    \"\"\"\n",
    "\n",
    "    # Llamamos a la función que genera el reporte print(funcion(tanque1, tanque2, tanque3))\n",
    "print(reporte (90, 60, 45))"
   ]
  },
  {
   "cell_type": "code",
   "execution_count": 2,
   "metadata": {},
   "outputs": [
    {
     "name": "stdout",
     "output_type": "stream",
     "text": [
      "Reporte completo:\n",
      "    Combustible total: {65.0}%\n",
      "    Primer tanque: 90%\n",
      "    Segundo tanque:60%\n",
      "    Tercer tanque: 45%\n",
      "    \n"
     ]
    }
   ],
   "source": [
    "# Función promedio \n",
    "def promedio (values):\n",
    "    total = sum(values)\n",
    "    numero_variables = len(values)\n",
    "    return total / numero_variables\n",
    "    valores=([15,20,36,84,25,74,12,36,98])\n",
    "promedio ([80, 85, 81])\n",
    "\n",
    "\n",
    "def reporte(tanque1, tanque2,  tanque3):\n",
    "      # obtenemos el proemdio\n",
    "    combustible_total = {promedio([tanque1, tanque2,  tanque3])}\n",
    "    return f\"\"\"Reporte completo:\n",
    "    Combustible total: {combustible_total}%\n",
    "    Primer tanque: {tanque1}%\n",
    "    Segundo tanque:{tanque2}%\n",
    "    Tercer tanque: {tanque3}%\n",
    "    \"\"\"\n",
    "    # Llamamos a la función que genera el reporte print(funcion(tanque1, tanque2, tanque3))\n",
    "print(reporte (90, 60, 45))"
   ]
  },
  {
   "cell_type": "code",
   "execution_count": null,
   "metadata": {},
   "outputs": [],
   "source": [
    "#Ejercicio 2\n",
    "# Función con un informe preciso de la misión. Considera hora de prelanzamiento, tiempo de vuelo, destino, tanque externo y tanque interno\n",
    "from datetime import timedelta, datetime\n",
    "\n",
    "def Reporte ( tiempo_vuelo, destino, tanque_externo, tanque_interno):\n",
    "    Hora = datetime.now()\n",
    "    return f\"\"\"\\tInforme preciso de la mision\n",
    "    {'-'*60} \n",
    "    Hora de prelanzamiento: {Hora.strftime(f'%H:%M:%S')}\n",
    "    Tiempo de vuelo: {tiempo_vuelo} min\n",
    "    Destino: {destino}\n",
    "    Tanque externo: {tanque_externo} \n",
    "    Tanque interno: {tanque_interno}\n",
    "    Combustible total: {tanque_externo+tanque_interno} \"\"\"\n",
    "\n",
    "print(Reporte(55,'Luna',50,80))\n"
   ]
  },
  {
   "cell_type": "code",
   "execution_count": null,
   "metadata": {},
   "outputs": [],
   "source": [
    "# Escribe tu nueva función de reporte considerando lo anterior\n",
    "\n",
    "from datetime import timedelta, datetime\n",
    "\n",
    "def Reporte ( destino,*tiempo,**tanques):\n",
    "    Hora = datetime.now()\n",
    "    return f\"\"\"\\tInforme preciso de la mision\n",
    "    {'-'*60} \n",
    "    Hora de prelanzamiento: {Hora.strftime(f'%H:%M:%S')}\n",
    "    Tiempo de vuelo: {sum(tiempo)} min\n",
    "    Destino: {destino}\n",
    "    Combustible total: {sum(tanques.values())} \"\"\"\n",
    "\n",
    "print(Reporte(\"Luna\",55,30, tanque_externo=80, tanque_interno=70, tanque_reserva=50))"
   ]
  },
  {
   "cell_type": "code",
   "execution_count": null,
   "metadata": {},
   "outputs": [],
   "source": [
    "# Escribe tu nueva función\n",
    "\n",
    "from datetime import timedelta, datetime\n",
    "\n",
    "def Reporte ( destino,*tiempo,**tanques):\n",
    "    Hora = datetime.now()\n",
    "    informe = f\"\"\"\\tInforme preciso de la mision\n",
    "    {'-'*60} \n",
    "    Hora de prelanzamiento: {Hora.strftime(f'%H:%M:%S')}\n",
    "    Tiempo de vuelo: {sum(tiempo)} min\n",
    "    Destino: {destino}\n",
    "    Combustible total: {sum(tanques.values())} \"\"\"\n",
    "    \n",
    "    for title, cantidad in tanques.items():\n",
    "        informe += f'\\n\\t{title}: {cantidad}'\n",
    "    return informe\n",
    "\n",
    "print(Reporte(\"Luna\",55,30, tanque_externo=80, tanque_interno=70, tanque_reserva=50))"
   ]
  }
 ],
 "metadata": {
  "interpreter": {
   "hash": "8e80d2d68616db500495fa63305e4522368717129d2b03ba28547940a56e2ea5"
  },
  "kernelspec": {
   "display_name": "Python 3.10.2 ('env': venv)",
   "language": "python",
   "name": "python3"
  },
  "language_info": {
   "codemirror_mode": {
    "name": "ipython",
    "version": 3
   },
   "file_extension": ".py",
   "mimetype": "text/x-python",
   "name": "python",
   "nbconvert_exporter": "python",
   "pygments_lexer": "ipython3",
   "version": "3.10.2"
  },
  "orig_nbformat": 4
 },
 "nbformat": 4,
 "nbformat_minor": 2
}
