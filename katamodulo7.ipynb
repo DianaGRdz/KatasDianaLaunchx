{
 "cells": [
  {
   "cell_type": "code",
   "execution_count": 2,
   "metadata": {},
   "outputs": [
    {
     "name": "stdout",
     "output_type": "stream",
     "text": [
      "['mercurio', 'venus', 'marte']\n"
     ]
    }
   ],
   "source": [
    "# Ejercicio 1\n",
    "# Declara dos variables\n",
    "newplanet =''\n",
    "planets=[]\n",
    "\n",
    "# Escribe el ciclo while solicitado\n",
    "while newplanet.lower() != 'done':\n",
    "    # Verificamos si hay un valor en new_planet\n",
    "    if newplanet:\n",
    "        # Se almacena ese valor en la lista planets\n",
    "        planets.append(newplanet)\n",
    "    # Se solicita capturar un nuevo valor o salir del ciclo\n",
    "    newplanet = input('Agrega el nombre de un nuevo planeta, o escribe \"done\" para terminar el programa')\n",
    "\n",
    "#Mostrar los datos de la lista\n",
    "print(planets)\n"
   ]
  },
  {
   "cell_type": "code",
   "execution_count": 3,
   "metadata": {},
   "outputs": [
    {
     "name": "stdout",
     "output_type": "stream",
     "text": [
      "mercurio\n",
      "venus\n",
      "marte\n"
     ]
    }
   ],
   "source": [
    "\n",
    "\n",
    "# Escribe tu ciclo for para iterar en una lista de planetas\n",
    "\n",
    "for planet in planets:\n",
    "    print(planet)\n",
    "\n"
   ]
  }
 ],
 "metadata": {
  "interpreter": {
   "hash": "8e80d2d68616db500495fa63305e4522368717129d2b03ba28547940a56e2ea5"
  },
  "kernelspec": {
   "display_name": "Python 3.10.2 ('env': venv)",
   "language": "python",
   "name": "python3"
  },
  "language_info": {
   "codemirror_mode": {
    "name": "ipython",
    "version": 3
   },
   "file_extension": ".py",
   "mimetype": "text/x-python",
   "name": "python",
   "nbconvert_exporter": "python",
   "pygments_lexer": "ipython3",
   "version": "3.10.2"
  },
  "orig_nbformat": 4
 },
 "nbformat": 4,
 "nbformat_minor": 2
}
